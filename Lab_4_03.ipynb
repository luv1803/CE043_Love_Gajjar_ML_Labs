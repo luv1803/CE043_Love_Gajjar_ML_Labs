{
  "nbformat": 4,
  "nbformat_minor": 0,
  "metadata": {
    "colab": {
      "name": "Untitled9.ipynb",
      "provenance": []
    },
    "kernelspec": {
      "name": "python3",
      "display_name": "Python 3"
    },
    "language_info": {
      "name": "python"
    }
  },
  "cells": [
    {
      "cell_type": "code",
      "execution_count": 1,
      "metadata": {
        "id": "4IkDs77pha-p"
      },
      "outputs": [],
      "source": [
        "# Import Numpy & PyTorch\n",
        "\n",
        "import torch.nn as nn\n",
        "import numpy as np\n",
        "import torch\n",
        "from numpy.core.fromnumeric import mean"
      ]
    },
    {
      "cell_type": "code",
      "source": [
        "# Input (temp, rainfall, humidity)\n",
        "inputs = np.array([[73, 67, 43],\n",
        "                  [91, 88, 64],\n",
        "                  [87, 134, 58],\n",
        "                  [102, 43, 37],\n",
        "                  [69, 96, 70]], dtype='float32')\n",
        "\n",
        "\n",
        "# Target (apples)\n",
        "targets = np.array([[56],\n",
        "                    [81],\n",
        "                    [119],\n",
        "                    [22],\n",
        "                    [103]], dtype='float32')\n",
        "\n",
        "# Convert inputs and targets to tensors\n",
        "inputs = torch.from_numpy(inputs)\n",
        "targets = torch.from_numpy(targets)\n",
        "print(\"converted : \",inputs)\n",
        "print(\"converted : \",targets)"
      ],
      "metadata": {
        "colab": {
          "base_uri": "https://localhost:8080/"
        },
        "id": "E7roLFFOiZnK",
        "outputId": "7e3fbb91-9bcc-4852-d888-607b8a21919d"
      },
      "execution_count": 2,
      "outputs": [
        {
          "output_type": "stream",
          "name": "stdout",
          "text": [
            "converted :  tensor([[ 73.,  67.,  43.],\n",
            "        [ 91.,  88.,  64.],\n",
            "        [ 87., 134.,  58.],\n",
            "        [102.,  43.,  37.],\n",
            "        [ 69.,  96.,  70.]])\n",
            "converted :  tensor([[ 56.],\n",
            "        [ 81.],\n",
            "        [119.],\n",
            "        [ 22.],\n",
            "        [103.]])\n"
          ]
        }
      ]
    },
    {
      "cell_type": "code",
      "source": [
        "# Weights and biases\n",
        "w = torch.randn(1, 3, requires_grad=True)\n",
        "b = torch.randn(1, requires_grad=True)\n",
        "\n",
        "print(\"Weights \",w)\n",
        "\n",
        "print(\"Bias \",b)"
      ],
      "metadata": {
        "colab": {
          "base_uri": "https://localhost:8080/"
        },
        "id": "BnQMp0jWicXK",
        "outputId": "66dd70d5-3f14-451d-94ea-b0e726e1a6fa"
      },
      "execution_count": 3,
      "outputs": [
        {
          "output_type": "stream",
          "name": "stdout",
          "text": [
            "Weights  tensor([[ 1.4189,  0.3725, -0.0530]], requires_grad=True)\n",
            "Bias  tensor([-0.6156], requires_grad=True)\n"
          ]
        }
      ]
    },
    {
      "cell_type": "code",
      "source": [
        "#Defining the model\n",
        "def model(x):\n",
        "    return  torch.mm(x,w.t(),out=None)+b"
      ],
      "metadata": {
        "id": "nsF-2KFGiei0"
      },
      "execution_count": 4,
      "outputs": []
    },
    {
      "cell_type": "code",
      "source": [
        "#Generate Predictions\n",
        "pred=model(inputs)\n",
        "print(\"Prediction \",pred)\n",
        "\n",
        "#Compare with targets\n",
        "print(\"Target \",targets)"
      ],
      "metadata": {
        "colab": {
          "base_uri": "https://localhost:8080/"
        },
        "id": "FTiiAK8Vig8m",
        "outputId": "a8847c70-b224-4739-f23e-89aad25800d1"
      },
      "execution_count": 5,
      "outputs": [
        {
          "output_type": "stream",
          "name": "stdout",
          "text": [
            "Prediction  tensor([[125.6378],\n",
            "        [157.8861],\n",
            "        [169.6633],\n",
            "        [158.1631],\n",
            "        [129.3330]], grad_fn=<AddBackward0>)\n",
            "Target  tensor([[ 56.],\n",
            "        [ 81.],\n",
            "        [119.],\n",
            "        [ 22.],\n",
            "        [103.]])\n"
          ]
        }
      ]
    },
    {
      "cell_type": "code",
      "source": [
        "# MSE loss\n",
        "def MseLoss(P,T):\n",
        "  sum=0\n",
        "  for j in range(0,len(T)):\n",
        "    sum += (T[j]-P[j])*(T[j]-P[j])\n",
        "  return sum/len(T)\n",
        "\n",
        "Loss=MseLoss(pred,targets)\n",
        "print(\"MSE Loss \",Loss)"
      ],
      "metadata": {
        "colab": {
          "base_uri": "https://localhost:8080/"
        },
        "id": "sA-5tjEWiiuG",
        "outputId": "26c257d5-0ee7-4fe5-f575-ef37893b37a6"
      },
      "execution_count": 6,
      "outputs": [
        {
          "output_type": "stream",
          "name": "stdout",
          "text": [
            "MSE Loss  tensor([6512.2944], grad_fn=<DivBackward0>)\n"
          ]
        }
      ]
    },
    {
      "cell_type": "code",
      "source": [
        "#Computing Gradients\n",
        "Loss.backward()\n",
        "\n",
        "#Gradients for Weights\n",
        "print(\"Gradient for Weights \",w.grad)\n",
        "\n",
        "#Gradients for Bias\n",
        "print(\"Gradient for Bias is \",b.grad)"
      ],
      "metadata": {
        "colab": {
          "base_uri": "https://localhost:8080/"
        },
        "id": "Qp_-J34aikpC",
        "outputId": "8a331f9f-7752-4aaf-b468-4ed398d74336"
      },
      "execution_count": 7,
      "outputs": [
        {
          "output_type": "stream",
          "name": "stdout",
          "text": [
            "Gradient for Weights  tensor([[12877.4043, 10641.4268,  7093.9790]])\n",
            "Gradient for Bias is  tensor([143.8733])\n"
          ]
        }
      ]
    },
    {
      "cell_type": "code",
      "source": [
        "# Adjust weights and Bias & reset gradients\n",
        "with torch.no_grad():\n",
        "    w -= w.grad * 1e-5\n",
        "    b -= b.grad * 1e-5\n",
        "    w.grad.zero_()\n",
        "    b.grad.zero_()\n",
        "print(\"Gradients for weights \",w.grad)\n",
        "print(\"Gradients for Bias \",b.grad)\n",
        "print(\"New weights \",w)\n",
        "print(\"New bias \",b)"
      ],
      "metadata": {
        "colab": {
          "base_uri": "https://localhost:8080/"
        },
        "id": "_M0C4SXQinCQ",
        "outputId": "8e283083-920d-48f5-9889-66af99d2f11c"
      },
      "execution_count": 8,
      "outputs": [
        {
          "output_type": "stream",
          "name": "stdout",
          "text": [
            "Gradients for weights  tensor([[0., 0., 0.]])\n",
            "Gradients for Bias  tensor([0.])\n",
            "New weights  tensor([[ 1.2901,  0.2661, -0.1240]], requires_grad=True)\n",
            "New bias  tensor([-0.6171], requires_grad=True)\n"
          ]
        }
      ]
    },
    {
      "cell_type": "code",
      "source": [
        "#calculate new Loss\n",
        "new_pred=model(inputs)\n",
        "new_loss = MseLoss(new_pred, targets)\n",
        "print(\"New Loss  \",new_loss)"
      ],
      "metadata": {
        "colab": {
          "base_uri": "https://localhost:8080/"
        },
        "id": "z0SxrbCeipdV",
        "outputId": "935ac4ab-456c-4fdd-ed34-3ffa3339a49d"
      },
      "execution_count": 9,
      "outputs": [
        {
          "output_type": "stream",
          "name": "stdout",
          "text": [
            "New Loss   tensor([3799.7397], grad_fn=<DivBackward0>)\n"
          ]
        }
      ]
    },
    {
      "cell_type": "code",
      "source": [
        "# Train for 100 epochs\n",
        "for i in range(100):\n",
        "    preds = model(inputs)\n",
        "    loss = MseLoss(preds, targets)\n",
        "    loss.backward()\n",
        "    with torch.no_grad():\n",
        "        w -= w.grad * 1e-5\n",
        "        b -= b.grad * 1e-5\n",
        "        w.grad.zero_()\n",
        "        b.grad.zero_()"
      ],
      "metadata": {
        "id": "miC-IZ4_irem"
      },
      "execution_count": 10,
      "outputs": []
    },
    {
      "cell_type": "code",
      "source": [
        "# Calculate  new loss\n",
        "preds = model(inputs)\n",
        "loss = MseLoss(preds, targets)\n",
        "print(\"Loss  \",loss)"
      ],
      "metadata": {
        "colab": {
          "base_uri": "https://localhost:8080/"
        },
        "id": "DfWxoJkoitkB",
        "outputId": "0e36bb29-c81a-4b73-9dd8-73a58263deec"
      },
      "execution_count": 11,
      "outputs": [
        {
          "output_type": "stream",
          "name": "stdout",
          "text": [
            "Loss   tensor([197.9378], grad_fn=<DivBackward0>)\n"
          ]
        }
      ]
    },
    {
      "cell_type": "code",
      "source": [
        "#Input(Temp,Rainfall,humidity)\n",
        "inputs = np.array([[73, 67, 43],\n",
        "                  [91, 88, 64],\n",
        "                  [87, 134, 58],\n",
        "                  [102, 43, 37],\n",
        "                  [69, 96, 70]], dtype='float32')\n",
        "\n",
        "#Target(Apples)\n",
        "targets = np.array([[56],\n",
        "                    [81],\n",
        "                    [119],\n",
        "                    [22],\n",
        "                    [103]], dtype='float32')\n",
        "\n",
        "# Convert inputs and targets to tensors\n",
        "inputs = torch.from_numpy(inputs)\n",
        "targets = torch.from_numpy(targets)"
      ],
      "metadata": {
        "id": "_Wo04kVFivTe"
      },
      "execution_count": 12,
      "outputs": []
    },
    {
      "cell_type": "code",
      "source": [
        "# Weights and biases\n",
        "w = torch.randn(1, 3, requires_grad=True)\n",
        "b = torch.randn(1, requires_grad=True)\n",
        "\n",
        "print(\"Weights \",w)\n",
        "\n",
        "print(\"Bias \",b)"
      ],
      "metadata": {
        "colab": {
          "base_uri": "https://localhost:8080/"
        },
        "id": "tPfJss4Ni7YJ",
        "outputId": "eacff0c2-53e8-4b50-a8e4-7cf510a49890"
      },
      "execution_count": 13,
      "outputs": [
        {
          "output_type": "stream",
          "name": "stdout",
          "text": [
            "Weights  tensor([[-0.3657,  0.4433, -0.0007]], requires_grad=True)\n",
            "Bias  tensor([1.3428], requires_grad=True)\n"
          ]
        }
      ]
    },
    {
      "cell_type": "code",
      "source": [
        "#Defining the model\n",
        "def model(x):\n",
        "    return  x @ w.t()+b"
      ],
      "metadata": {
        "id": "XPhTXksii-8b"
      },
      "execution_count": 14,
      "outputs": []
    },
    {
      "cell_type": "code",
      "source": [
        "#Generate Predictions\n",
        "preds=model(inputs)\n",
        "print(\"Prediction \",preds)\n",
        "\n",
        "#Compare with targets\n",
        "print(\"Target \",targets)"
      ],
      "metadata": {
        "colab": {
          "base_uri": "https://localhost:8080/"
        },
        "id": "CnvZ0GagjAur",
        "outputId": "5ed79f53-a3ca-4cdf-8276-9425da7ec097"
      },
      "execution_count": 15,
      "outputs": [
        {
          "output_type": "stream",
          "name": "stdout",
          "text": [
            "Prediction  tensor([[  4.3159],\n",
            "        [  7.0274],\n",
            "        [ 28.8848],\n",
            "        [-16.9239],\n",
            "        [ 18.6148]], grad_fn=<AddBackward0>)\n",
            "Target  tensor([[ 56.],\n",
            "        [ 81.],\n",
            "        [119.],\n",
            "        [ 22.],\n",
            "        [103.]])\n"
          ]
        }
      ]
    },
    {
      "cell_type": "code",
      "source": [
        "mseloss = nn.MSELoss()\n",
        "loss = mseloss(preds, targets)\n",
        "loss.backward()\n",
        "print(\"Loss \",loss)\n",
        "\n",
        "#Computing Gradients\n",
        "print(\"Gradients for weights \",w.grad)\n",
        "print(\"Gradients for Bias \",b.grad)"
      ],
      "metadata": {
        "colab": {
          "base_uri": "https://localhost:8080/"
        },
        "id": "r1Y-YKnJjFg3",
        "outputId": "ef7c38f5-113b-47b0-852b-2f93cb293c9a"
      },
      "execution_count": 16,
      "outputs": [
        {
          "output_type": "stream",
          "name": "stdout",
          "text": [
            "Loss  tensor(4979.9761, grad_fn=<MseLossBackward0>)\n",
            "Gradients for weights  tensor([[-11254.9160, -12729.0283,  -7812.1978]])\n",
            "Gradients for Bias  tensor([-135.6324])\n"
          ]
        }
      ]
    },
    {
      "cell_type": "code",
      "source": [
        "# Train for 100 epochs\n",
        "for i in range(100):\n",
        "    preds = model(inputs)\n",
        "    loss = mseloss(preds, targets)\n",
        "    loss.backward()\n",
        "    with torch.no_grad():\n",
        "        w -= w.grad * 1e-5\n",
        "        b -= b.grad * 1e-5\n",
        "        w.grad.zero_()\n",
        "        b.grad.zero_()"
      ],
      "metadata": {
        "id": "A-qj6jWRjHyk"
      },
      "execution_count": 17,
      "outputs": []
    },
    {
      "cell_type": "code",
      "source": [
        "# Calculate  new loss\n",
        "preds = model(inputs)\n",
        "loss = mseloss(preds, targets)\n",
        "print(\"Loss\",loss)"
      ],
      "metadata": {
        "colab": {
          "base_uri": "https://localhost:8080/"
        },
        "id": "Orq3LLTYjJee",
        "outputId": "d537607b-1f9f-4219-e6ac-73b99b5d20fc"
      },
      "execution_count": 18,
      "outputs": [
        {
          "output_type": "stream",
          "name": "stdout",
          "text": [
            "Loss tensor(21.8208, grad_fn=<MseLossBackward0>)\n"
          ]
        }
      ]
    }
  ]
}