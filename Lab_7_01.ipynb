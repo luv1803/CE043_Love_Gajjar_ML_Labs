{
  "nbformat": 4,
  "nbformat_minor": 0,
  "metadata": {
    "colab": {
      "name": "Logistic_Regression_tensorflow.ipynb",
      "provenance": [],
      "collapsed_sections": []
    },
    "kernelspec": {
      "name": "python3",
      "display_name": "Python 3"
    },
    "language_info": {
      "name": "python"
    }
  },
  "cells": [
    {
      "cell_type": "code",
      "source": [
        "from __future__ import absolute_import, division, print_function\n",
        "import tensorflow as tf\n",
        "import numpy as np"
      ],
      "metadata": {
        "id": "_XHTXDUKLyEk"
      },
      "execution_count": 14,
      "outputs": []
    },
    {
      "cell_type": "code",
      "source": [
        "# HYPERPARAMS\n",
        "num_classes = 10 # 0 to 9 digits\n",
        "num_features = 784 # 28*28\n",
        "learning_rate = 0.01\n",
        "training_steps = 1000\n",
        "batch_size = 256\n",
        "display_step = 50"
      ],
      "metadata": {
        "id": "UPRFTSB6L9jx"
      },
      "execution_count": 15,
      "outputs": []
    },
    {
      "cell_type": "code",
      "source": [
        "from tensorflow.keras.datasets import mnist\n",
        "\n",
        "(x_train, y_train), (x_test, y_test) = mnist.load_data()\n",
        "x_train, x_test = np.array(x_train, np.float32), np.array(x_test, np.float32)\n",
        "\n",
        "x_train, x_test = x_train.reshape([-1, num_features]), x_test.reshape([-1, num_features])\n",
        "x_train, x_test = x_train / 255., x_test / 255."
      ],
      "metadata": {
        "id": "05g7VEAuL159"
      },
      "execution_count": 16,
      "outputs": []
    },
    {
      "cell_type": "code",
      "source": [
        "train_data=tf.data.Dataset.from_tensor_slices((x_train,y_train))\n",
        "\n",
        "train_data=train_data.repeat().shuffle(5000).batch(batch_size).prefetch(1)"
      ],
      "metadata": {
        "id": "WwBIxGTWL4ug"
      },
      "execution_count": 17,
      "outputs": []
    },
    {
      "cell_type": "code",
      "source": [
        "W = tf.Variable(tf.ones([num_features, num_classes]), name=\"weight\")\n",
        "b = tf.Variable(tf.zeros([num_classes]), name=\"bias\")"
      ],
      "metadata": {
        "id": "D-4GoTRSMCRY"
      },
      "execution_count": 19,
      "outputs": []
    },
    {
      "cell_type": "code",
      "source": [
        "def logistic_regression(x):\n",
        "    return tf.nn.softmax(tf.matmul(x, W) + b)\n",
        "\n",
        "def cross_entropy(y_pred, y_true):\n",
        "    y_true = tf.one_hot(y_true, depth=num_classes)\n",
        "    y_pred = tf.clip_by_value(y_pred, 1e-9, 1.)\n",
        "    return tf.reduce_mean(-tf.reduce_sum(y_true * tf.math.log(y_pred)))\n"
      ],
      "metadata": {
        "id": "aVUD_SO2MD7Y"
      },
      "execution_count": 20,
      "outputs": []
    },
    {
      "cell_type": "code",
      "source": [
        "def accuracy(y_pred, y_true):\n",
        "  correct_prediction = tf.equal(tf.argmax(y_pred, 1), tf.cast(y_true, tf.int64))\n",
        "  return tf.reduce_mean(tf.cast(correct_prediction, tf.float32))\n",
        "\n",
        "optimizer = tf.optimizers.SGD(learning_rate)"
      ],
      "metadata": {
        "id": "KoPup0OxMK2_"
      },
      "execution_count": 21,
      "outputs": []
    },
    {
      "cell_type": "code",
      "source": [
        "def run_optimization(x, y):\n",
        "    with tf.GradientTape() as g:\n",
        "        pred = logistic_regression(x)\n",
        "        loss = cross_entropy(pred, y)\n",
        "    gradients = g.gradient(loss, [W, b])\n",
        "    optimizer.apply_gradients(zip(gradients, [W, b]))"
      ],
      "metadata": {
        "id": "B40KX_lBMNBQ"
      },
      "execution_count": 22,
      "outputs": []
    },
    {
      "cell_type": "code",
      "source": [
        "for step, (batch_x, batch_y) in enumerate(train_data.take(training_steps), 1):\n",
        "    run_optimization(batch_x, batch_y)\n",
        "    if step % display_step == 0:\n",
        "        pred = logistic_regression(batch_x)\n",
        "        loss = cross_entropy(pred, batch_y)\n",
        "        acc = accuracy(pred, batch_y)\n",
        "        print(\"step: %i, loss: %f, accuracy: %f\" % (step, loss, acc))"
      ],
      "metadata": {
        "colab": {
          "base_uri": "https://localhost:8080/"
        },
        "id": "9LkcvjhmMR5n",
        "outputId": "dd37c712-a2b2-48ae-aea8-4a091a3b4a04"
      },
      "execution_count": 23,
      "outputs": [
        {
          "output_type": "stream",
          "name": "stdout",
          "text": [
            "step: 50, loss: 718.801331, accuracy: 0.765625\n",
            "step: 100, loss: 597.629883, accuracy: 0.808594\n",
            "step: 150, loss: 564.334839, accuracy: 0.851562\n",
            "step: 200, loss: 632.421265, accuracy: 0.832031\n",
            "step: 250, loss: 609.436707, accuracy: 0.753906\n",
            "step: 300, loss: 672.178833, accuracy: 0.757812\n",
            "step: 350, loss: 787.262146, accuracy: 0.781250\n",
            "step: 400, loss: 399.623413, accuracy: 0.882812\n",
            "step: 450, loss: 576.305420, accuracy: 0.863281\n",
            "step: 500, loss: 494.123566, accuracy: 0.875000\n",
            "step: 550, loss: 637.472351, accuracy: 0.839844\n",
            "step: 600, loss: 638.868225, accuracy: 0.726562\n",
            "step: 650, loss: 474.212830, accuracy: 0.843750\n",
            "step: 700, loss: 651.874878, accuracy: 0.824219\n",
            "step: 750, loss: 370.935852, accuracy: 0.898438\n",
            "step: 800, loss: 513.853516, accuracy: 0.875000\n",
            "step: 850, loss: 605.323364, accuracy: 0.773438\n",
            "step: 900, loss: 680.299866, accuracy: 0.839844\n",
            "step: 950, loss: 783.452026, accuracy: 0.773438\n",
            "step: 1000, loss: 559.627747, accuracy: 0.851562\n"
          ]
        }
      ]
    },
    {
      "cell_type": "code",
      "source": [
        "pred = logistic_regression(x_test)\n",
        "print(\"Test Accuracy: %f\" % accuracy(pred, y_test))"
      ],
      "metadata": {
        "colab": {
          "base_uri": "https://localhost:8080/"
        },
        "id": "k3zUgJtLMW-Q",
        "outputId": "d0088afa-1684-4616-c666-99266b7dd526"
      },
      "execution_count": 24,
      "outputs": [
        {
          "output_type": "stream",
          "name": "stdout",
          "text": [
            "Test Accuracy: 0.831600\n"
          ]
        }
      ]
    }
  ]
}